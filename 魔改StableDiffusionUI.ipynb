{
  "cells": [
    {
      "cell_type": "markdown",
      "metadata": {
        "id": "view-in-github",
        "colab_type": "text"
      },
      "source": [
        "<a href=\"https://colab.research.google.com/github/salooomecut/hello_world/blob/main/%E9%AD%94%E6%94%B9StableDiffusionUI.ipynb\" target=\"_parent\"><img src=\"https://colab.research.google.com/assets/colab-badge.svg\" alt=\"Open In Colab\"/></a>"
      ]
    },
    {
      "cell_type": "code",
      "execution_count": null,
      "metadata": {
        "id": "X0gtHixxhGBU"
      },
      "outputs": [],
      "source": [
        "#@title Connect gdrive\n",
        "from google.colab import drive\n",
        "drive.mount('/content/drive')"
      ]
    },
    {
      "cell_type": "code",
      "source": [
        "#@title 确保第一次该模块运行成功后，即可删除该模块\n",
        "import os\n",
        "\n",
        "!mkdir -p /content/drive/MyDrive/一些模组\n",
        "%cd /content/drive/MyDrive/一些模组\n",
        "%mkdir ckpt em lora hn"
      ],
      "metadata": {
        "id": "9IIuQGvdZwHa"
      },
      "execution_count": null,
      "outputs": []
    },
    {
      "cell_type": "code",
      "execution_count": null,
      "metadata": {
        "id": "woQCdVO8x-Kt",
        "cellView": "form"
      },
      "outputs": [],
      "source": [
        "#@title Check GPU\n",
        "!nvidia-smi"
      ]
    },
    {
      "cell_type": "code",
      "execution_count": null,
      "metadata": {
        "id": "sBbcB4vwj_jm"
      },
      "outputs": [],
      "source": [
        "#@title Clone webui repository\n",
        "%cd /content\n",
        "!git clone https://github.com/AUTOMATIC1111/stable-diffusion-webui\n",
        "# !git clone -b aria1th-patch-1 https://github.com/AUTOMATIC1111/stable-diffusion-webui.git\n",
        "%cd stable-diffusion-webui"
      ]
    },
    {
      "cell_type": "code",
      "execution_count": null,
      "metadata": {
        "id": "ZzRNMT42Gw_p"
      },
      "outputs": [],
      "source": [
        "#@title Confirm direction\n",
        "!mkdir -p /content/stable-diffusion-webui/models/Stable-diffusion /content/stable-diffusion-webui/models/hypernetworks\n",
        "%cd /content/stable-diffusion-webui/models/Stable-diffusion/"
      ]
    },
    {
      "cell_type": "code",
      "source": [
        "#@title install extensions\n",
        "\n",
        "install_controlnet=True #@param {type:\"boolean\"}\n",
        "#@markdown - This is the pretrained weights and some other detector weights of ControlNet.\n",
        "\n",
        "install_dreambooth=False #@param {type:\"boolean\"}\n",
        "#@markdown - 训练大模型\n",
        "\n",
        "install_aesthetic=False #@param {type:\"boolean\"}\n",
        "#@markdown - 审美渐变(从一张或几张图片创建嵌入，并使用它来将其样式应用于生成的图像)\n",
        "\n",
        "install_images_browser=False #@param {type:\"boolean\"}\n",
        "#@markdown - 图片浏览器(提供一个界面以在 Web 浏览器中浏览创建的图像)\n",
        "\n",
        "install_deforum=False #@param {type:\"boolean\"}\n",
        "#@markdown - Deforum 的官方端口，一个用于 2D 和 3D 动画的扩展脚本，支持关键帧序列、动态数学参数（甚至在提示内）、动态遮罩、深度估计和变形\n",
        "\n",
        "install_inspiration=False #@param {type:\"boolean\"}\n",
        "#@markdown - 灵感(随机显示该艺术家或艺术流派典型风格的图片)\n",
        "#@markdown - 选择后显示更多该艺术家或艺术流派的图片，所以您在创作时不必担心选择正确的艺术风格有多难\n",
        "\n",
        "install_study_artists=False #@param {type:\"boolean\"}\n",
        "#@markdown - 学习的艺术家(您可以通过单击将艺术家姓名添加到剪贴板)\n",
        "\n",
        "install_image_score=False #@param {type:\"boolean\"}\n",
        "#@markdown - 审美形象评分器(使用基于Chad Scorer的CLIP+MLP 美学分数预测器计算生成图像的美学分数,将分数保存到 windows 标签并计划其他选项)\n",
        "\n",
        "install_tag_editor=False #@param {type:\"boolean\"}\n",
        "#@markdown - 数据集标签编辑器(它适用于逗号分隔样式的文本标题(例如 DeepBooru 询问器生成的标签),图片文件名中的标题可以加载，但编辑后的标题只能以文本文件的形式保存)\n",
        "\n",
        "install_dreamartist=False #@param {type:\"boolean\"}\n",
        "#@markdown - DreamArtist: Towards Controllable One-Shot Text-to-Image Generation via Contrastive Prompt-Tuning\" with Stable-Diffusion-webui\n",
        "#@markdown - DreamArtist：使用 Stable-Diffusion-webui 通过对比提示调整实现可控的一次性文本到图像生成。\n",
        "\n",
        "install_chinese=False #@param {type:\"boolean\"}\n",
        "#@markdown - 汉化包，需要重启，不推荐，英文原版最好\n",
        "\n",
        "install_tagger=False #@param {type:\"boolean\"}\n",
        "#@markdown - tager\n",
        "\n",
        "install_daam=False #@param {type:\"boolean\"}\n",
        "#@markdown - 热力图\n",
        "\n",
        "\n",
        "if install_controlnet:\n",
        "  %cd /content/stable-diffusion-webui/extensions\n",
        "  !git clone https://github.com/Mikubill/sd-webui-controlnet\n",
        "\n",
        "if install_dreambooth:\n",
        "  %cd /content/stable-diffusion-webui/extensions\n",
        "  !git clone https://github.com/d8ahazard/sd_dreambooth_extension\n",
        "\n",
        "if install_aesthetic:\n",
        "  %cd /content/stable-diffusion-webui\n",
        "  !git clone https://github.com/AUTOMATIC1111/stable-diffusion-webui-aesthetic-gradients extensions/aesthetic-gradients\n",
        "\n",
        "if install_images_browser:\n",
        "  %cd /content/stable-diffusion-webui\n",
        "  !git clone https://github.com/yfszzx/stable-diffusion-webui-images-browser extensions/images-browser\n",
        "\n",
        "if install_deforum:\n",
        "  %cd /content/stable-diffusion-webui\n",
        "  !git clone https://github.com/deforum-art/deforum-for-automatic1111-webui/ extensions/deforum\n",
        "\n",
        "if install_inspiration:\n",
        "  %cd /content/stable-diffusion-webui\n",
        "  !git clone https://github.com/yfszzx/stable-diffusion-webui-inspiration extensions/stable-diffusion-webui-inspiration\n",
        "\n",
        "if install_study_artists:\n",
        "  %cd /content/stable-diffusion-webui\n",
        "  !git clone https://github.com/camenduru/stable-diffusion-webui-artists-to-study extensions/artists-to-study\n",
        "\n",
        "if install_image_score:\n",
        "  %cd /content/stable-diffusion-webui\n",
        "  !git clone --recurse-submodules https://github.com/tsngo/stable-diffusion-webui-aesthetic-image-scorer extensions/aesthetic-image-scorer\n",
        "\n",
        "if install_tag_editor:\n",
        "  %cd /content/stable-diffusion-webui\n",
        "  !git clone https://github.com/toshiaki1729/stable-diffusion-webui-dataset-tag-editor.git extensions/dataset-tag-editor\n",
        "\n",
        "if install_dreamartist:\n",
        "  %cd /content/stable-diffusion-webui\n",
        "  !git clone git clone https://github.com/7eu7d7/DreamArtist-sd-webui-extension.git extensions/DreamArtist\n",
        "\n",
        "if install_chinese:\n",
        "  %cd /content/stable-diffusion-webui/extensions\n",
        "  !git clone https://github.com/dtlnor/stable-diffusion-webui-localization-zh_CN\n",
        "\n",
        "if install_tagger:\n",
        "  %cd /content/stable-diffusion-webui\n",
        "  !git clone https://github.com/toriato/stable-diffusion-webui-wd14-tagger extensions/Tagger\n",
        "\n",
        "if install_daam:\n",
        "  %cd /content/stable-diffusion-webui\n",
        "  !git clone https://github.com/kousw/stable-diffusion-webui-daam extensions/daam\n"
      ],
      "metadata": {
        "id": "Yq0E-dyHIpcs",
        "cellView": "form"
      },
      "execution_count": null,
      "outputs": []
    },
    {
      "cell_type": "code",
      "source": [
        "#@title 使用controlnet不同模组\n",
        "canny=True #@param {type:\"boolean\"}\n",
        "#@markdown - The ControlNet+SD1.5 model to control SD using canny edge detection.\n",
        "#@markdown - 边缘检测，基于轮廓精准绘制，可用于ai上色\n",
        "\n",
        "depth=True #@param {type:\"boolean\"}\n",
        "#@markdown - control SD using Midas depth estimation.\n",
        "#@markdown - 深度估计\n",
        "\n",
        "hed=True #@param {type:\"boolean\"}\n",
        "#@markdown - control SD using HED edge detection (soft edge).\n",
        "#@markdown - 使用HED边缘检测（软边缘），相较于canny自由程度更高\n",
        "\n",
        "mlsd=True #@param {type:\"boolean\"}\n",
        "#@markdown -  control SD using M-LSD line detection (will also work with traditional Hough transform).\n",
        "#@markdown - mlsd线段检测，用于得到构图，常用于建筑物，物体车辆\n",
        "\n",
        "normal=False #@param {type:\"boolean\"}\n",
        "#@markdown - 目前有bug。control SD using normal map. Best to use the normal map generated by that Gradio app. Other normal maps may also work as long as the direction is correct (left looks red, right looks blue, up looks green, down looks purple).\n",
        "#@markdown - 使用法线图。最好使用那个Gradio应用程序生成的法线图。只要方向正确，其他法线图也可以使用（左边看起来是红色，右边看起来是蓝色，向上看起来是绿色，向下看起来是紫色）。常用于法线图立体效果\n",
        "\n",
        "openpose=True #@param {type:\"boolean\"}\n",
        "#@markdown - control SD using OpenPose pose detection. Directly manipulating pose skeleton should also work.\n",
        "#@markdown - 使用OpenPose姿势检测，或者直接操作姿势骨架\n",
        "#@markdown - 用于生成openpose骨骼的blender模型 https://toyxyz.gumroad.com/l/ciojz\n",
        "\n",
        "scribble=True #@param {type:\"boolean\"}\n",
        "#@markdown - control SD using human scribbles. The model is trained with boundary edges with very strong data augmentation to simulate boundary lines similar to that drawn by human.\n",
        "#@markdown - 使用人类的涂鸦。该模型是用边界边缘进行训练的，具有非常强的数据增强功能，以模拟类似于人类所画的边界线。\n",
        "#@markdown - fake scribble和scribble共用一个模型，又称假涂鸦，将物品去掉细节生成没有内容的涂鸦图，然后再去改变材质和颜色;自由程度更高\n",
        "\n",
        "seg=True #@param {type:\"boolean\"}\n",
        "#@markdown - control SD using semantic segmentation. The protocol is ADE20k.\n",
        "#@markdown - 语义分割；可以通过色块绘制区域\n",
        "\n",
        "if install_controlnet:\n",
        "  if canny:\n",
        "    !cp /content/drive/MyDrive/一些模组/controlnet/control_canny-fp16.safetensors /content/stable-diffusion-webui/extensions/sd-webui-controlnet/models\n",
        "  if canny:\n",
        "    !cp /content/drive/MyDrive/一些模组/controlnet/control_depth-fp16.safetensors /content/stable-diffusion-webui/extensions/sd-webui-controlnet/models\n",
        "  if canny:\n",
        "    !cp /content/drive/MyDrive/一些模组/controlnet/control_hed-fp16.safetensors /content/stable-diffusion-webui/extensions/sd-webui-controlnet/models\n",
        "  if canny:\n",
        "    !cp /content/drive/MyDrive/一些模组/controlnet/control_mlsd-fp16.safetensors /content/stable-diffusion-webui/extensions/sd-webui-controlnet/models\n",
        "  if canny:\n",
        "    !cp /content/drive/MyDrive/一些模组/controlnet/control_normal-fp16.safetensors /content/stable-diffusion-webui/extensions/sd-webui-controlnet/models\n",
        "  if canny:\n",
        "    !cp /content/drive/MyDrive/一些模组/controlnet/control_openpose-fp16.safetensors /content/stable-diffusion-webui/extensions/sd-webui-controlnet/models\n",
        "  if canny:\n",
        "    !cp /content/drive/MyDrive/一些模组/controlnet/control_scribble-fp16.safetensors /content/stable-diffusion-webui/extensions/sd-webui-controlnet/models\n",
        "  if canny:\n",
        "    !cp /content/drive/MyDrive/一些模组/controlnet/control_seg-fp16.safetensors /content/stable-diffusion-webui/extensions/sd-webui-controlnet/models\n"
      ],
      "metadata": {
        "id": "JO4HtcVQ0sae"
      },
      "execution_count": null,
      "outputs": []
    },
    {
      "cell_type": "code",
      "execution_count": null,
      "metadata": {
        "id": "kMlVzmUTsnTr"
      },
      "outputs": [],
      "source": [
        "#@title 4g model\n",
        "# animesfw-final-pruned + 4G animefull-final-pruned\n",
        "#@markdown 如果在下一步自己导入模型了则可以不勾选\n",
        "\n",
        "%cd /content/stable-diffusion-webui/models/Stable-diffusion/\n",
        "\n",
        "models_4g_internet=True #@param {type:\"boolean\"}\n",
        "#@markdown - 约耗时1min\n",
        "models_4g_local=False #@param {type:\"boolean\"}\n",
        "\n",
        "if models_4g_internet:\n",
        "  !apt install -y -qq aria2\n",
        "  !aria2c --summary-interval=10 -x 3 --allow-overwrite=true -Z \\\n",
        "  https://pub-2fdef7a2969f43289c42ac5ae3412fd4.r2.dev/animefull-final-pruned.ckpt\n",
        "  #https://pub-2fdef7a2969f43289c42ac5ae3412fd4.r2.dev/animesfw-final-pruned.ckpt\n",
        "if models_4g_local:\n",
        "  !cp /content/drive/MyDrive/一些模组/ckpt/animefull-final-pruned.ckpt /content/stable-diffusion-webui/models/Stable-diffusion\n",
        ""
      ]
    },
    {
      "cell_type": "code",
      "source": [
        "#@title install config\n",
        "%cd /content/stable-diffusion-webui/models/Stable-diffusion/\n",
        "!curl -Lo /content/stable-diffusion-webui/config.yaml https://pub-2fdef7a2969f43289c42ac5ae3412fd4.r2.dev/config-pruned.yaml #.ymal数据序列化语言，通常用于编写配置文件\n",
        "# !cp /content/drive/MyDrive/一些模组/config.yaml /content/stable-diffusion-webui/config.yaml"
      ],
      "metadata": {
        "id": "4oqBIa0dVT83"
      },
      "execution_count": null,
      "outputs": []
    },
    {
      "cell_type": "code",
      "source": [
        "#@title select your own ckpt\n",
        "nahida=False #@param {type:\"boolean\"}\n",
        "#@markdown - 本代码块和下一个代码块选择一个运行即可\n",
        "\n",
        "if nahida:\n",
        "  !cp -r /content/drive/MyDrive/一些模组/ckpt/nahida_3000.ckpt /content/stable-diffusion-webui/models/Stable-diffusion"
      ],
      "metadata": {
        "id": "HljigjYBFyKe"
      },
      "execution_count": null,
      "outputs": []
    },
    {
      "cell_type": "code",
      "source": [
        "#@title import all your ckpt\n",
        "import_all_ckpt=False #@param {type:\"boolean\"}\n",
        "#@markdown - 如果可以的话自己更改上一个代码块的代码，这样的话灵活性比较高；这个代码块是直接导入全部ckpt，一个2g的ckpt导入耗时30s\n",
        "#@markdown - 想要导入新的ckpt文件，只需要手动将模型文件移动到/content/drive/MyDrive/一些模组，即可然后运行该代码块\n",
        "if import_all_ckpt:\n",
        "  !cp -r /content/drive/MyDrive/一些模组/ckpt/* /content/stable-diffusion-webui/models/Stable-diffusion"
      ],
      "metadata": {
        "id": "7tAKQ5LtDf12"
      },
      "execution_count": null,
      "outputs": []
    },
    {
      "cell_type": "code",
      "execution_count": null,
      "metadata": {
        "id": "Am0YCM26oWHf"
      },
      "outputs": [],
      "source": [
        "#@title install optional items\n",
        "install_embeddings=False #@param {type:\"boolean\"}\n",
        "local_embeddings=False #@param {type:\"boolean\"}\n",
        "\n",
        "install_VAE_Weights=False #@param {type:\"boolean\"}\n",
        "local_VAE_Weights=True #@param {type:\"boolean\"}\n",
        "\n",
        "install_hypernetwork=False #@param {type:\"boolean\"}\n",
        "local_hypernetwork=False #@param {type:\"boolean\"}\n",
        "\n",
        "install_asthetic_gradients=False #@param {type:\"boolean\"}\n",
        "local_asthetic_gradients=False #@param {type:\"boolean\"}\n",
        "\n",
        "local_lora=False #@param {type:\"boolean\"}\n",
        "\n",
        "if install_embeddings:\n",
        "  !curl -L https://cloudflare-ipfs.com/ipfs/bafybeie3hdjchxs5tz4n75bos53nhcklslguxchdurc2ynrzcfv2kwyklu/embeddings.tar | tar x -C /content/stable-diffusion-webui/embeddings\n",
        "if install_VAE_Weights:\n",
        "  !curl -Lo /content/animevae.pt https://pub-2fdef7a2969f43289c42ac5ae3412fd4.r2.dev/animevae.pt\n",
        "if install_hypernetwork:\n",
        "  !curl -L https://cloudflare-ipfs.com/ipfs/bafybeiduanx2b3mcvxlwr66igcwnpfmk3nc3qgxlpwh6oq6m6pxii3f77e/_modules.tar | tar x -C /content/stable-diffusion-webui/models/hypernetworks\n",
        "if install_asthetic_gradients:\n",
        "  print(\"\")\n",
        "\n",
        "if local_embeddings:\n",
        "  !cp -r /content/drive/MyDrive/一些模组/em/* /content/stable-diffusion-webui/embeddings\n",
        "if local_VAE_Weights:\n",
        "  !cp /content/drive/MyDrive/一些模组/animevae.pt /content\n",
        "if local_hypernetwork:\n",
        "  !cp -r /content/drive/MyDrive/一些模组/hn/* /content/stable-diffusion-webui/models/hypernetworks\n",
        "if local_asthetic_gradients:\n",
        "  !cp -r /content/drive/MyDrive/一些模组/asthetic/* /content/stable-diffusion-webui/models/Stable-diffusion/extensions/aesthetic-gradients\n",
        "\n",
        "if local_lora:\n",
        "  !cp -r /content/drive/MyDrive/一些模组/lora/* /content/stable-diffusion-webui/models/Lora"
      ]
    },
    {
      "cell_type": "markdown",
      "metadata": {
        "id": "xt8lbdmC04ox"
      },
      "source": [
        "Launch web ui. You will get a link to nnn.gradio.app, follow it.\n",
        "\n",
        "Commandline arguments are:\n",
        "  - `--share` - create online gradio.app link\n",
        "  - `--gradio-debug` - print outputs to console\n",
        "  - `--gradio-auth me:qwerty` - add authentication to gradio: username me, password qwerty\n",
        "  - `--deepdanbooru` - add deepdanbooru\n",
        "  - `--medvram`\n",
        "  - `--disable-safe-unpickle`\n",
        "  - `--share --gradio-debug --deepdanbooru --config config.yaml --vae-path /content/animevae.pt`\n",
        "  - ` --enable-insecure-extension-access`"
      ]
    },
    {
      "cell_type": "code",
      "execution_count": null,
      "metadata": {
        "id": "R-xAdMA5wxXd"
      },
      "outputs": [],
      "source": [
        "import os\n",
        "%cd /content/stable-diffusion-webui\n",
        "use_deepdanbooru=False#@param {type:\"boolean\"}\n",
        "#@markdown - 随意\n",
        "use_animevae=True#@param {type:\"boolean\"}\n",
        "#@markdown - 二次元模型需勾选\n",
        "# hacks to load model in colab\n",
        "!sed -i 's/map_location=\"cpu\"/map_location=\"cuda\"/g' /content/stable-diffusion-webui/modules/sd_models.py\n",
        "\n",
        "# Use novelai stable-diffusion-private (maybe slow, optional)\n",
        "# !mkdir -p repositories/stable-diffusion\n",
        "# !curl -L https://cloudflare-ipfs.com/ipfs/bafybeiauciguui6skzcwg23mjprjbuqhfzudms2gfi4rna55bygc3s6yxa/stable-diffusion-private.tar | tar x -C repositories/stable-diffusion\n",
        "# !git config --global --add safe.directory /content/stable-diffusion-webui/repositories/stable-diffusion\n",
        "# !pip3 install -U --pre triton icecream xformers\n",
        "# !sed -i 's/transformer\\.text_model/transformer/g' modules/sd_hijack.py\n",
        "# !sed -i 's/self.model.device/\"cuda\"/g' /content/stable-diffusion-webui/repositories/stable-diffusion/ldm/models/diffusion/*.py\n",
        "# !COMMANDLINE_ARGS=\"--share --gradio-debug --config config.yaml --xformers --vae-path /content/animevae.pt\" \\\n",
        "#  REQS_FILE=\"requirements.txt\" STABLE_DIFFUSION_COMMIT_HASH=\"5d95f1742ab1831d99df91c1a469b2b56a61eebf\" python launch.py\n",
        "\n",
        "# ...Or use normal stable-diffusion\n",
        "\n",
        "#--precision full\n",
        "#--gradio-img2img-tool color-sketch\n",
        "\n",
        "if use_deepdanbooru:\n",
        "  if os.path.exists(\"/content/stable-diffusion-webui/models/torch_deepdanbooru\"):\n",
        "    pass\n",
        "  else:\n",
        "    !cp -r /content/drive/MyDrive/一些模组/torch_deepdanbooru /content/stable-diffusion-webui/models/\n",
        "  use_dd = \"--deepdanbooru\"\n",
        "else:\n",
        "  use_dd = \"\"\n",
        "use_anime_vae= \"--vae-path /content/animevae.pt\" if use_animevae else \"\"\n",
        "\n",
        "!COMMANDLINE_ARGS=\"--share --gradio-debug --disable-safe-unpickle {use_dd} --config config.yaml {use_anime_vae}\" REQS_FILE=\"requirements.txt\" python launch.py\n",
        "\n",
        "#@markdown - negative快速复制：lowres, bad anatomy, bad hands, text, error, missing fingers, extra digit, fewer digits, cropped, worst quality, low quality, normal quality, jpeg artifacts, signature, watermark, username, blurry"
      ]
    },
    {
      "cell_type": "markdown",
      "metadata": {
        "id": "KGUIsa085vNc"
      },
      "source": [
        "# 新段落（可以无视该行及之后行）"
      ]
    },
    {
      "cell_type": "markdown",
      "metadata": {
        "id": "T3957x2AY7iP"
      },
      "source": [
        "commands for ***after*** you have gotten done with a session\n",
        "============================================================================"
      ]
    },
    {
      "cell_type": "code",
      "execution_count": null,
      "metadata": {
        "cellView": "form",
        "id": "TmRqNyiAZCHu"
      },
      "outputs": [],
      "source": [
        "#@title Zip images for downloading on local drive (click the folder icon on the left, the one below {x})\n",
        "zip=False #@param {type:\"boolean\"}\n",
        "if zip:\n",
        "  !zip -r /content/stable-diffusion-webui /content/stable-diffusion-webui/outputs"
      ]
    },
    {
      "cell_type": "code",
      "execution_count": null,
      "metadata": {
        "cellView": "form",
        "id": "-N0lnu-TZOTW"
      },
      "outputs": [],
      "source": [
        "#@title Save images to Google Drive Warning: this will cause google to scan your drive, so if you intend to use this and worry about that kind of stuff, probablly just set this up on a clean account that's just for this colab\n",
        "# from google.colab import drive # type: ignore\n",
        "\n",
        "# try:\n",
        "#    drive_path = \"/content/drive\"\n",
        "#    drive.mount(drive_path,force_remount=False)\n",
        "# except:\n",
        "#    print(\"...error mounting drive or with drive path variables\")\n",
        "if zip:\n",
        "  !cp -r \"/content/stable-diffusion-webui/outputs\" \"/content/drive/MyDrive\""
      ]
    }
  ],
  "metadata": {
    "accelerator": "GPU",
    "colab": {
      "provenance": [],
      "private_outputs": true,
      "include_colab_link": true
    },
    "gpuClass": "standard",
    "kernelspec": {
      "display_name": "Python 3",
      "name": "python3"
    },
    "language_info": {
      "name": "python"
    }
  },
  "nbformat": 4,
  "nbformat_minor": 0
}